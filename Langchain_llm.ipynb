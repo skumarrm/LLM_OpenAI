{
  "nbformat": 4,
  "nbformat_minor": 0,
  "metadata": {
    "colab": {
      "provenance": [],
      "authorship_tag": "ABX9TyPzdzWq25fgJP1n5kiiaghA",
      "include_colab_link": true
    },
    "kernelspec": {
      "name": "python3",
      "display_name": "Python 3"
    },
    "language_info": {
      "name": "python"
    }
  },
  "cells": [
    {
      "cell_type": "markdown",
      "metadata": {
        "id": "view-in-github",
        "colab_type": "text"
      },
      "source": [
        "<a href=\"https://colab.research.google.com/github/skumarrm/LLM_OpenAI/blob/main/Langchain_llm.ipynb\" target=\"_parent\"><img src=\"https://colab.research.google.com/assets/colab-badge.svg\" alt=\"Open In Colab\"/></a>"
      ]
    },
    {
      "cell_type": "code",
      "source": [
        "pip install langchain openai"
      ],
      "metadata": {
        "colab": {
          "base_uri": "https://localhost:8080/"
        },
        "id": "6ABu16Gm-RS3",
        "outputId": "d32076fa-e64a-4198-9be1-4246137ce407"
      },
      "execution_count": null,
      "outputs": [
        {
          "output_type": "stream",
          "name": "stdout",
          "text": [
            "Collecting langchain\n",
            "  Downloading langchain-0.0.286-py3-none-any.whl (1.7 MB)\n",
            "\u001b[2K     \u001b[90m━━━━━━━━━━━━━━━━━━━━━━━━━━━━━━━━━━━━━━━━\u001b[0m \u001b[32m1.7/1.7 MB\u001b[0m \u001b[31m7.7 MB/s\u001b[0m eta \u001b[36m0:00:00\u001b[0m\n",
            "\u001b[?25hCollecting openai\n",
            "  Downloading openai-0.28.0-py3-none-any.whl (76 kB)\n",
            "\u001b[2K     \u001b[90m━━━━━━━━━━━━━━━━━━━━━━━━━━━━━━━━━━━━━━━━\u001b[0m \u001b[32m76.5/76.5 kB\u001b[0m \u001b[31m6.4 MB/s\u001b[0m eta \u001b[36m0:00:00\u001b[0m\n",
            "\u001b[?25hRequirement already satisfied: PyYAML>=5.3 in /usr/local/lib/python3.10/dist-packages (from langchain) (6.0.1)\n",
            "Requirement already satisfied: SQLAlchemy<3,>=1.4 in /usr/local/lib/python3.10/dist-packages (from langchain) (2.0.20)\n",
            "Requirement already satisfied: aiohttp<4.0.0,>=3.8.3 in /usr/local/lib/python3.10/dist-packages (from langchain) (3.8.5)\n",
            "Requirement already satisfied: async-timeout<5.0.0,>=4.0.0 in /usr/local/lib/python3.10/dist-packages (from langchain) (4.0.3)\n",
            "Collecting dataclasses-json<0.6.0,>=0.5.7 (from langchain)\n",
            "  Downloading dataclasses_json-0.5.14-py3-none-any.whl (26 kB)\n",
            "Collecting langsmith<0.1.0,>=0.0.21 (from langchain)\n",
            "  Downloading langsmith-0.0.35-py3-none-any.whl (37 kB)\n",
            "Requirement already satisfied: numexpr<3.0.0,>=2.8.4 in /usr/local/lib/python3.10/dist-packages (from langchain) (2.8.5)\n",
            "Requirement already satisfied: numpy<2,>=1 in /usr/local/lib/python3.10/dist-packages (from langchain) (1.23.5)\n",
            "Requirement already satisfied: pydantic<3,>=1 in /usr/local/lib/python3.10/dist-packages (from langchain) (1.10.12)\n",
            "Requirement already satisfied: requests<3,>=2 in /usr/local/lib/python3.10/dist-packages (from langchain) (2.31.0)\n",
            "Requirement already satisfied: tenacity<9.0.0,>=8.1.0 in /usr/local/lib/python3.10/dist-packages (from langchain) (8.2.3)\n",
            "Requirement already satisfied: tqdm in /usr/local/lib/python3.10/dist-packages (from openai) (4.66.1)\n",
            "Requirement already satisfied: attrs>=17.3.0 in /usr/local/lib/python3.10/dist-packages (from aiohttp<4.0.0,>=3.8.3->langchain) (23.1.0)\n",
            "Requirement already satisfied: charset-normalizer<4.0,>=2.0 in /usr/local/lib/python3.10/dist-packages (from aiohttp<4.0.0,>=3.8.3->langchain) (3.2.0)\n",
            "Requirement already satisfied: multidict<7.0,>=4.5 in /usr/local/lib/python3.10/dist-packages (from aiohttp<4.0.0,>=3.8.3->langchain) (6.0.4)\n",
            "Requirement already satisfied: yarl<2.0,>=1.0 in /usr/local/lib/python3.10/dist-packages (from aiohttp<4.0.0,>=3.8.3->langchain) (1.9.2)\n",
            "Requirement already satisfied: frozenlist>=1.1.1 in /usr/local/lib/python3.10/dist-packages (from aiohttp<4.0.0,>=3.8.3->langchain) (1.4.0)\n",
            "Requirement already satisfied: aiosignal>=1.1.2 in /usr/local/lib/python3.10/dist-packages (from aiohttp<4.0.0,>=3.8.3->langchain) (1.3.1)\n",
            "Collecting marshmallow<4.0.0,>=3.18.0 (from dataclasses-json<0.6.0,>=0.5.7->langchain)\n",
            "  Downloading marshmallow-3.20.1-py3-none-any.whl (49 kB)\n",
            "\u001b[2K     \u001b[90m━━━━━━━━━━━━━━━━━━━━━━━━━━━━━━━━━━━━━━━━\u001b[0m \u001b[32m49.4/49.4 kB\u001b[0m \u001b[31m4.8 MB/s\u001b[0m eta \u001b[36m0:00:00\u001b[0m\n",
            "\u001b[?25hCollecting typing-inspect<1,>=0.4.0 (from dataclasses-json<0.6.0,>=0.5.7->langchain)\n",
            "  Downloading typing_inspect-0.9.0-py3-none-any.whl (8.8 kB)\n",
            "Requirement already satisfied: typing-extensions>=4.2.0 in /usr/local/lib/python3.10/dist-packages (from pydantic<3,>=1->langchain) (4.5.0)\n",
            "Requirement already satisfied: idna<4,>=2.5 in /usr/local/lib/python3.10/dist-packages (from requests<3,>=2->langchain) (3.4)\n",
            "Requirement already satisfied: urllib3<3,>=1.21.1 in /usr/local/lib/python3.10/dist-packages (from requests<3,>=2->langchain) (2.0.4)\n",
            "Requirement already satisfied: certifi>=2017.4.17 in /usr/local/lib/python3.10/dist-packages (from requests<3,>=2->langchain) (2023.7.22)\n",
            "Requirement already satisfied: greenlet!=0.4.17 in /usr/local/lib/python3.10/dist-packages (from SQLAlchemy<3,>=1.4->langchain) (2.0.2)\n",
            "Requirement already satisfied: packaging>=17.0 in /usr/local/lib/python3.10/dist-packages (from marshmallow<4.0.0,>=3.18.0->dataclasses-json<0.6.0,>=0.5.7->langchain) (23.1)\n",
            "Collecting mypy-extensions>=0.3.0 (from typing-inspect<1,>=0.4.0->dataclasses-json<0.6.0,>=0.5.7->langchain)\n",
            "  Downloading mypy_extensions-1.0.0-py3-none-any.whl (4.7 kB)\n",
            "Installing collected packages: mypy-extensions, marshmallow, typing-inspect, langsmith, openai, dataclasses-json, langchain\n",
            "Successfully installed dataclasses-json-0.5.14 langchain-0.0.286 langsmith-0.0.35 marshmallow-3.20.1 mypy-extensions-1.0.0 openai-0.28.0 typing-inspect-0.9.0\n"
          ]
        }
      ]
    },
    {
      "cell_type": "code",
      "execution_count": null,
      "metadata": {
        "id": "MaRXTvyP73vQ"
      },
      "outputs": [],
      "source": [
        "from secret_key import openapi_key\n",
        "import os\n",
        "os.environ['OPENAI_API_KEY'] = openapi_key"
      ]
    },
    {
      "cell_type": "code",
      "source": [
        "from langchain.llms import OpenAI\n",
        "\n",
        "llm = OpenAI(temperature=1)\n",
        "result = llm(\"I want to perform for fancy dress, suggest a character & topic with content to speak?\")\n",
        "print(result)"
      ],
      "metadata": {
        "colab": {
          "base_uri": "https://localhost:8080/"
        },
        "id": "cSxkejjr-y3G",
        "outputId": "8b4c80ab-14af-40d7-c81a-1c26d4980657"
      },
      "execution_count": null,
      "outputs": [
        {
          "output_type": "stream",
          "name": "stdout",
          "text": [
            "\n",
            "\n",
            "A good topic for a fancy dress performance could be a creative re-telling of a classic fairy tale. The audience can be taken on a journey where all the characters, setting, and plot are given a unique, eye-catching makeover that would dazzle the audience. This could also be a great way to display some of the costumes and props that have been made for the event as well.\n"
          ]
        }
      ]
    },
    {
      "cell_type": "code",
      "source": [
        "from langchain.prompts import PromptTemplate\n",
        "prompt_template_name = PromptTemplate(input_variables = ['activity'],\n",
        "                                template = \"I want to perform {activity} competition for 4th std CBSE indian school, suggest a girl character & topic name?\")\n",
        "\n",
        "prompt_template_content = PromptTemplate(input_variables = ['name'],\n",
        "                                template = \"Provide the detailed content for the above {name} ?\")\n"
      ],
      "metadata": {
        "id": "8o_y7SGO_mxt"
      },
      "execution_count": null,
      "outputs": []
    },
    {
      "cell_type": "code",
      "source": [
        "from langchain.chains import LLMChain\n",
        "name_chain = LLMChain(llm=llm, prompt=prompt_template_name)\n",
        "content_chain = LLMChain(llm=llm, prompt=prompt_template_content)"
      ],
      "metadata": {
        "id": "SHiuewJ-BDV1"
      },
      "execution_count": null,
      "outputs": []
    },
    {
      "cell_type": "code",
      "source": [
        "from langchain.chains import SimpleSequentialChain\n",
        "chain = SimpleSequentialChain(chains = [name_chain,content_chain])\n",
        "chain.run(\"fancy dress\")"
      ],
      "metadata": {
        "colab": {
          "base_uri": "https://localhost:8080/",
          "height": 191
        },
        "id": "j07OrfJnE3DJ",
        "outputId": "87ea5b0c-ce3c-4e63-a6cb-28f2b2aaf844"
      },
      "execution_count": null,
      "outputs": [
        {
          "output_type": "execute_result",
          "data": {
            "text/plain": [
              "'\\n\\nRapunzel used her imagination to help her escape her tower imprisonment. Through her creative thinking, she was able to create a makeshift rope out of her long blonde hair and use it to climb down below. Even after Rapunzel was freed from her captivity, she continued to use her prodigious imagination to explore the vast world outside her tower walls.\\n\\nWhen she stumbled upon a charming kingdom, she was awestruck by all the delightful sights and newfound freedoms that inspired her to break away from the traditional limitations society had tried to place on her. Rapunzel used her creative spirit to try different experiences like gathering flowers and meeting new friends. She also kept a journal to document her progress, allowing her to reflect on past choices and draw inspiration for the future.\\n\\nRapunzel provides a perfect example of how we can use our imaginations to explore the unknown and unlock previously untapped potential. She refused to be held back by restrictive traditions and instead made her own path, relying entirely on her creative intuition to lead the way. \\n\\nRapunzel shows us that we have the power to unlock our imaginations and employ this power to venture into previously unknown realms. By taking the plunge and stepping out of one’s comfort zone, we'"
            ],
            "application/vnd.google.colaboratory.intrinsic+json": {
              "type": "string"
            }
          },
          "metadata": {},
          "execution_count": 24
        }
      ]
    },
    {
      "cell_type": "code",
      "source": [
        "from langchain.chains import LLMChain\n",
        "name_chain = LLMChain(llm=llm, prompt=prompt_template_name, output_key='name')\n",
        "content_chain = LLMChain(llm=llm, prompt=prompt_template_content, output_key='content')"
      ],
      "metadata": {
        "id": "TJv6rWfJIClp"
      },
      "execution_count": null,
      "outputs": []
    },
    {
      "cell_type": "code",
      "source": [
        "from langchain.chains import SequentialChain\n",
        "chain = SequentialChain(chains = [name_chain,content_chain],\n",
        "                        input_variables = ['activity'],\n",
        "                        output_variables = ['name','content'])\n",
        "chain({\"activity\":\"recitation\"})"
      ],
      "metadata": {
        "colab": {
          "base_uri": "https://localhost:8080/"
        },
        "id": "Cg525SU1Itd-",
        "outputId": "3bb188fd-af77-45a9-9487-a3c900cc27ab"
      },
      "execution_count": null,
      "outputs": [
        {
          "output_type": "execute_result",
          "data": {
            "text/plain": [
              "{'activity': 'recitation',\n",
              " 'name': ' \\n\\nGirl Character: Rowena. \\nTopic Name: \"The Splendour of Nature\"',\n",
              " 'content': \"\\n\\nRowena was a small town girl who loves to explore and revel in the splendour of nature. Every summer, she spent months travelling through the rolling hills and fields of her hometown, taking in the sweet smell of the blooming wildflowers, the grounded earthiness of a blanket of grass, and the rustling of the trees in the whispering breeze.\\n\\nAs she travelled, Rowena often felt an intense connection to the undisturbed beauty that surrounded her. The blazing blues, vibrant reds, and luscious greens of the springtime countryside made her feel truly alive and in touch with the beauty of the natural world. \\n\\nRowena also encountered some of nature's most daunting displays of power. During a stormy night, she was surrounded in a fierce wind and lightning show that left her both terrified and awestruck. Even the heavy rain that dampened her clothes and the mud that gathered on her shoes couldn't take away from the majestic force of nature that she was witnessing. \\n\\nRowena's time spent in the outdoors taught her so much, and her appreciation for it never faded. Whether it be a refreshing dip in a clear lake or an inspiring view of an impressive mountain range, she continued to be amazed by\"}"
            ]
          },
          "metadata": {},
          "execution_count": 27
        }
      ]
    },
    {
      "cell_type": "code",
      "source": [
        "!pip install wikipedia"
      ],
      "metadata": {
        "colab": {
          "base_uri": "https://localhost:8080/"
        },
        "id": "eLMKHjQRHiKI",
        "outputId": "f77dfb81-e0d7-4d4c-e4fc-8978873c6448"
      },
      "execution_count": null,
      "outputs": [
        {
          "output_type": "stream",
          "name": "stdout",
          "text": [
            "Collecting wikipedia\n",
            "  Downloading wikipedia-1.4.0.tar.gz (27 kB)\n",
            "  Preparing metadata (setup.py) ... \u001b[?25l\u001b[?25hdone\n",
            "Requirement already satisfied: beautifulsoup4 in /usr/local/lib/python3.10/dist-packages (from wikipedia) (4.11.2)\n",
            "Requirement already satisfied: requests<3.0.0,>=2.0.0 in /usr/local/lib/python3.10/dist-packages (from wikipedia) (2.31.0)\n",
            "Requirement already satisfied: charset-normalizer<4,>=2 in /usr/local/lib/python3.10/dist-packages (from requests<3.0.0,>=2.0.0->wikipedia) (3.2.0)\n",
            "Requirement already satisfied: idna<4,>=2.5 in /usr/local/lib/python3.10/dist-packages (from requests<3.0.0,>=2.0.0->wikipedia) (3.4)\n",
            "Requirement already satisfied: urllib3<3,>=1.21.1 in /usr/local/lib/python3.10/dist-packages (from requests<3.0.0,>=2.0.0->wikipedia) (2.0.4)\n",
            "Requirement already satisfied: certifi>=2017.4.17 in /usr/local/lib/python3.10/dist-packages (from requests<3.0.0,>=2.0.0->wikipedia) (2023.7.22)\n",
            "Requirement already satisfied: soupsieve>1.2 in /usr/local/lib/python3.10/dist-packages (from beautifulsoup4->wikipedia) (2.5)\n",
            "Building wheels for collected packages: wikipedia\n",
            "  Building wheel for wikipedia (setup.py) ... \u001b[?25l\u001b[?25hdone\n",
            "  Created wheel for wikipedia: filename=wikipedia-1.4.0-py3-none-any.whl size=11678 sha256=d20d4c6a5214caefe7b84f99a2ab681ca1d338dfaca406733b5a45b50f310cbb\n",
            "  Stored in directory: /root/.cache/pip/wheels/5e/b6/c5/93f3dec388ae76edc830cb42901bb0232504dfc0df02fc50de\n",
            "Successfully built wikipedia\n",
            "Installing collected packages: wikipedia\n",
            "Successfully installed wikipedia-1.4.0\n"
          ]
        }
      ]
    },
    {
      "cell_type": "code",
      "source": [
        "from langchain.agents import AgentType, initialize_agent, load_tools\n",
        "from langchain.llms import OpenAI\n",
        "from langchain.tools.wikipedia.tool import WikipediaQueryRun\n",
        "\n",
        "llm = OpenAI(temperature=0.25)\n",
        "\n",
        "tools = load_tools([\"wikipedia\",'llm-math'],llm=llm)\n",
        "agent = initialize_agent(tools,\n",
        "                        llm,\n",
        "                        agent=AgentType.ZERO_SHOT_REACT_DESCRIPTION,\n",
        "                        verbose=True)\n",
        "agent.run(\"who was the hero in jailer movie?\")"
      ],
      "metadata": {
        "colab": {
          "base_uri": "https://localhost:8080/",
          "height": 472
        },
        "id": "sYMWDNui7viR",
        "outputId": "5664f2fa-9cac-439e-e340-8aa224345a54"
      },
      "execution_count": null,
      "outputs": [
        {
          "output_type": "stream",
          "name": "stdout",
          "text": [
            "\n",
            "\n",
            "\u001b[1m> Entering new AgentExecutor chain...\u001b[0m\n",
            "\u001b[32;1m\u001b[1;3m I need to find out who the hero is in a movie\n",
            "Action: Wikipedia\n",
            "Action Input: \"Jailer movie\"\u001b[0m\n",
            "Observation: \u001b[36;1m\u001b[1;3mPage: Jailer (2023 Tamil film)\n",
            "Summary: Jailer is a 2023 Indian Tamil-language action comedy film directed by Nelson Dilipkumar and produced by Kalanithi Maran of Sun Pictures. The film stars Rajinikanth in the lead role, alongside Vinayakan, Ramya Krishnan, Vasanth Ravi, Tamannaah, Sunil, Mirnaa Menon and Yogi Babu in supporting roles. \n",
            "The film was officially announced in February 2022 with the working title Thalaivar 169, being the 169th film of Rajinikanth, while the official title Jailer was announced in June. Principal photography began in August 2022 in Chennai and wrapped in June 2023. The music is composed by Anirudh Ravichander, while the cinematography and editing were handled by Vijay Kartik Kannan and R. Nirmal.\n",
            "Jailer was released theatrically on 10 August 2023 to positive reviews from critics who praised its screenwriting, direction, cast performances, characterisation and background score. The film grossed ₹600–635 crore worldwide, making it the third highest-grossing Indian film of 2023 as well as the third highest-grossing Tamil film.\n",
            "\n",
            "Page: Jailer (soundtrack)\n",
            "Summary: Jailer is the soundtrack album to the 2023 film of the same name directed by Nelson Dilipkumar, starring Rajinikanth. The film's original score is composed by Anirudh Ravichander, whose soundtrack consists of eight tracks: four songs written by Arunraja Kamaraj, Vignesh Shivan and Super Subu and four instrumental tracks. Three of them—\"Kaavaalaa\", \"Hukum – Thalaivar Alappara\" and \"Jujubee\"—were released as singles prior to the album's release on 28 July 2023, at the Jawaharlal Nehru Indoor Stadium in Chennai.\n",
            "\n",
            "\n",
            "\n",
            "Page: Jailer (2023 Malayalam film)\n",
            "Summary: Jailer is a 2023 Indian Malayalam-language period drama thriller film directed by Sakkir Madathil. The film features Dhyan Sreenivasan in the titular role, alongside Manoj K. Jayan, Divya Pillai, and Sreejith Ravi in the supporting cast. The film is produced by N. K. Mohammed under the banner of Golden Village Production. The film, set in the 1950s, tells the story of a prison officer who stays in a bungalow in Gandhigram with five prisoners who were charged with different crimes and his experiments to reform them.\n",
            "\n",
            "\u001b[0m\n",
            "Thought:\u001b[32;1m\u001b[1;3m I now know the final answer\n",
            "Final Answer: The hero in the Jailer movie is Rajinikanth.\u001b[0m\n",
            "\n",
            "\u001b[1m> Finished chain.\u001b[0m\n"
          ]
        },
        {
          "output_type": "execute_result",
          "data": {
            "text/plain": [
              "'The hero in the Jailer movie is Rajinikanth.'"
            ],
            "application/vnd.google.colaboratory.intrinsic+json": {
              "type": "string"
            }
          },
          "metadata": {},
          "execution_count": 16
        }
      ]
    },
    {
      "cell_type": "code",
      "source": [
        "from langchain.utilities import WikipediaAPIWrapper\n",
        "wikipedia = WikipediaAPIWrapper()\n",
        "wikipedia.run('jailer movie')"
      ],
      "metadata": {
        "colab": {
          "base_uri": "https://localhost:8080/",
          "height": 191
        },
        "id": "CMP-WrHKHExU",
        "outputId": "9ba61ea8-b83d-4a70-9a81-06b12c0bdaa6"
      },
      "execution_count": null,
      "outputs": [
        {
          "output_type": "execute_result",
          "data": {
            "text/plain": [
              "'Page: Jailer (2023 Tamil film)\\nSummary: Jailer is a 2023 Indian Tamil-language action comedy film directed by Nelson Dilipkumar and produced by Kalanithi Maran of Sun Pictures. The film stars Rajinikanth in the lead role, alongside Vinayakan, Ramya Krishnan, Vasanth Ravi, Tamannaah, Sunil, Mirnaa Menon and Yogi Babu in supporting roles. \\nThe film was officially announced in February 2022 with the working title Thalaivar 169, being the 169th film of Rajinikanth, while the official title Jailer was announced in June. Principal photography began in August 2022 in Chennai and wrapped in June 2023. The music is composed by Anirudh Ravichander, while the cinematography and editing were handled by Vijay Kartik Kannan and R. Nirmal.\\nJailer was released theatrically on 10 August 2023 to positive reviews from critics who praised its screenwriting, direction, cast performances, characterisation and background score. The film grossed ₹600–635 crore worldwide, making it the third highest-grossing Indian film of 2023 as well as the third highest-grossing Tamil film.\\n\\nPage: Jailer (soundtrack)\\nSummary: Jailer is the soundtrack album to the 2023 film of the same name directed by Nelson Dilipkumar, starring Rajinikanth. The film\\'s original score is composed by Anirudh Ravichander, whose soundtrack consists of eight tracks: four songs written by Arunraja Kamaraj, Vignesh Shivan and Super Subu and four instrumental tracks. Three of them—\"Kaavaalaa\", \"Hukum – Thalaivar Alappara\" and \"Jujubee\"—were released as singles prior to the album\\'s release on 28 July 2023, at the Jawaharlal Nehru Indoor Stadium in Chennai.\\n\\n\\n\\nPage: Jailer (2023 Malayalam film)\\nSummary: Jailer is a 2023 Indian Malayalam-language period drama thriller film directed by Sakkir Madathil. The film features Dhyan Sreenivasan in the titular role, alongside Manoj K. Jayan, Divya Pillai, and Sreejith Ravi in the supporting cast. The film is produced by N. K. Mohammed under the banner of Golden Village Production. The film, set in the 1950s, tells the story of a prison officer who stays in a bungalow in Gandhigram with five prisoners who were charged with different crimes and his experiments to reform them.\\n\\n'"
            ],
            "application/vnd.google.colaboratory.intrinsic+json": {
              "type": "string"
            }
          },
          "metadata": {},
          "execution_count": 13
        }
      ]
    },
    {
      "cell_type": "code",
      "source": [
        "from secret_key import serpapi_key\n",
        "os.environ['SERPAPI_API_KEY']= serpapi_key\n"
      ],
      "metadata": {
        "colab": {
          "base_uri": "https://localhost:8080/",
          "height": 332
        },
        "id": "vYYRo2gpLGpn",
        "outputId": "ab2e164f-ede1-4d57-b4d3-e40740365801"
      },
      "execution_count": 30,
      "outputs": [
        {
          "output_type": "error",
          "ename": "ImportError",
          "evalue": "ignored",
          "traceback": [
            "\u001b[0;31m---------------------------------------------------------------------------\u001b[0m",
            "\u001b[0;31mImportError\u001b[0m                               Traceback (most recent call last)",
            "\u001b[0;32m<ipython-input-30-867b66de1cf5>\u001b[0m in \u001b[0;36m<cell line: 1>\u001b[0;34m()\u001b[0m\n\u001b[0;32m----> 1\u001b[0;31m \u001b[0;32mfrom\u001b[0m \u001b[0msecret_key\u001b[0m \u001b[0;32mimport\u001b[0m \u001b[0mserpapi_key\u001b[0m\u001b[0;34m\u001b[0m\u001b[0;34m\u001b[0m\u001b[0m\n\u001b[0m\u001b[1;32m      2\u001b[0m \u001b[0mos\u001b[0m\u001b[0;34m.\u001b[0m\u001b[0menviron\u001b[0m\u001b[0;34m[\u001b[0m\u001b[0;34m'SERPAPI_API_KEY'\u001b[0m\u001b[0;34m]\u001b[0m\u001b[0;34m=\u001b[0m \u001b[0mserpapi_key\u001b[0m\u001b[0;34m\u001b[0m\u001b[0;34m\u001b[0m\u001b[0m\n",
            "\u001b[0;31mImportError\u001b[0m: cannot import name 'serpapi_key' from 'secret_key' (/content/secret_key.py)",
            "",
            "\u001b[0;31m---------------------------------------------------------------------------\u001b[0;32m\nNOTE: If your import is failing due to a missing package, you can\nmanually install dependencies using either !pip or !apt.\n\nTo view examples of installing some common dependencies, click the\n\"Open Examples\" button below.\n\u001b[0;31m---------------------------------------------------------------------------\u001b[0m\n"
          ],
          "errorDetails": {
            "actions": [
              {
                "action": "open_url",
                "actionText": "Open Examples",
                "url": "/notebooks/snippets/importing_libraries.ipynb"
              }
            ]
          }
        }
      ]
    },
    {
      "cell_type": "code",
      "source": [
        "from secret_key import openapi_key\n",
        "import os\n",
        "os.environ['OPENAI_API_KEY'] = openapi_key"
      ],
      "metadata": {
        "id": "vo5tvqMsMyoN"
      },
      "execution_count": 31,
      "outputs": []
    }
  ]
}